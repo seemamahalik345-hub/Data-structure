{
  "nbformat": 4,
  "nbformat_minor": 0,
  "metadata": {
    "colab": {
      "provenance": []
    },
    "kernelspec": {
      "name": "python3",
      "display_name": "Python 3"
    },
    "language_info": {
      "name": "python"
    }
  },
  "cells": [
    {
      "cell_type": "code",
      "execution_count": null,
      "metadata": {
        "id": "FU1PJ8amcYjb"
      },
      "outputs": [],
      "source": [
        "\n"
      ]
    },
    {
      "cell_type": "markdown",
      "source": [
        "Data Types and Structures Questions\n"
      ],
      "metadata": {
        "id": "Z8B2kppgfMBb"
      }
    },
    {
      "cell_type": "markdown",
      "source": [
        "  1. What are data structures, and why are they important?\n",
        "     -A data structure defines how data is arranged in memory and how operations like accessing, inserting, deleting, or updating that data can be performed efficiently.\n"
      ],
      "metadata": {
        "id": "Ud_shU9LgXp6"
      }
    },
    {
      "cell_type": "markdown",
      "source": [
        "2. Explain the difference between mutable and immutable data types with    examples?\n",
        "    - Mutable objects can be changed after creation — their contents (elements or values) can be modified without changing their identity (memory address).\n",
        "\n",
        "     Examples: list, dict, set\n",
        "\n",
        "     - Immutable objects cannot be changed after creation — any modification creates a new object in memory.\n",
        "\n",
        "      Examples: int, float, str, tuples, bool"
      ],
      "metadata": {
        "id": "izteL-2LFjTV"
      }
    },
    {
      "cell_type": "markdown",
      "source": [
        "3.  What are the main differences between lists and tuples in Python?\n",
        "    - List: A mutable collection of ordered elements.\n",
        "      Tuple: An immutable collection of ordered elements.\n"
      ],
      "metadata": {
        "id": "WotP44eZGUbF"
      }
    },
    {
      "cell_type": "markdown",
      "source": [
        "4. Describe how dictionaries store data ?\n",
        "   - In Python, a dictionary stores data as a collection of key value pairs, allowing you to quickly find a value if you know its key.\n"
      ],
      "metadata": {
        "id": "u5zY_pp6Gfv7"
      }
    },
    {
      "cell_type": "markdown",
      "source": [
        "5. Why might you use a set instead of a list in Python ?\n",
        "   - You might use a set instead of a list in Python when you need to store unique items and perform fast membership tests.\n"
      ],
      "metadata": {
        "id": "i5-8SKzvPPdM"
      }
    },
    {
      "cell_type": "markdown",
      "source": [
        "6. What is a string in Python, and how is it different from a list?\n",
        "  - A string in Python is a sequence of characters enclosed in quotes — either single (' ') or double (\" \").\n",
        "  - Strings are immutable, meaning you cannot change them after creation.\n",
        "\n",
        "  - A list is a collection of items (which can be of any data type) enclosed in square brackets [ ].\n",
        "  - Lists are mutable, meaning their contents can be changed.\n"
      ],
      "metadata": {
        "id": "fzR-s2zNQJpc"
      }
    },
    {
      "cell_type": "markdown",
      "source": [
        "7. How do tuples ensure data integrity in Python ?\n",
        "   - Tuples help ensure data integrity in Python because they are immutable, meaning their contents cannot be changed once created.\n"
      ],
      "metadata": {
        "id": "TQ_RqoKURRv5"
      }
    },
    {
      "cell_type": "markdown",
      "source": [
        "8. What is a hash table, and how does it relate to dictionaries in Python ?\n",
        "   - A hash table is a data structure that stores data in key value pairs and allows fast access to values based on their keys.\n"
      ],
      "metadata": {
        "id": "6Uhl5BQASNVk"
      }
    },
    {
      "cell_type": "markdown",
      "source": [
        "9. Can lists contain different data types in Python ?\n",
        "   - Yes, lists in Python can contain different data types within the same list.\n"
      ],
      "metadata": {
        "id": "nqKRmoCFS2hL"
      }
    },
    {
      "cell_type": "markdown",
      "source": [
        "10. Explain why strings are immutable in Python?\n",
        "    - Strings in Python are immutable, meaning once a string is created, it cannot be changed or modified.\n",
        "\n"
      ],
      "metadata": {
        "id": "F1KuumSsTNxv"
      }
    },
    {
      "cell_type": "markdown",
      "source": [
        "11. What advantages do dictionaries offer over lists for certain tasks ?\n",
        "   - Dictionaries in Python offer several advantages over lists for certain tasks, especially when you need fast lookups, meaningful keys, or unique identifiers.\n"
      ],
      "metadata": {
        "id": "Tw7ds-MnTrbo"
      }
    },
    {
      "cell_type": "markdown",
      "source": [
        "12. Describe a scenario where using a tuple would be preferable over a list?\n",
        "   - A tuple is preferable over a list when you need to store a fixed collection of data that should not change during program execution.\n"
      ],
      "metadata": {
        "id": "qlDQgqFmlaJK"
      }
    },
    {
      "cell_type": "markdown",
      "source": [
        "13. How do sets handle duplicate values in Python ?\n",
        "    - The in keyword is used in Python to check for membership, but it behaves differently when used with lists and dictionaries.\n"
      ],
      "metadata": {
        "id": "4_DvVUYglthi"
      }
    },
    {
      "cell_type": "markdown",
      "source": [
        "14. Can you modify the elements of a tuple? Explain why or why not?\n",
        "    - No, you cannot modify the elements of a tuple in Python.\n"
      ],
      "metadata": {
        "id": "4Gx-E5CumVLE"
      }
    },
    {
      "cell_type": "markdown",
      "source": [
        "15.Can you modify the elements of a tuple? Explain why or why not?\n",
        "   - No, you cannot modify the elements of a tuple in Pyth\n",
        "   - Tuples are immutable data types — meaning once a tuple is created, its elements cannot be changed, added, or removed.\n"
      ],
      "metadata": {
        "id": "VNOf0c-1yVSV"
      }
    },
    {
      "cell_type": "markdown",
      "source": [
        "16. What is a nested dictionary, and give an example of its use case ?\n",
        "    - A nested dictionary in Python is a dictionary inside another dictionary — meaning the values of one or more keys are themselves dictionaries.\n"
      ],
      "metadata": {
        "id": "6PD_LQBYnNSM"
      }
    },
    {
      "cell_type": "markdown",
      "source": [
        "17. Describe the time complexity of accessing elements in a dictionary ?\n",
        "    - Accessing elements in a dictionary in Python is generally a constant-time operation, meaning its time complexity is O(1) on average.\n"
      ],
      "metadata": {
        "id": "udNK-7RLnexr"
      }
    },
    {
      "cell_type": "markdown",
      "source": [
        "18.  In what situations are lists preferred over dictionaries?\n",
        "     - Lists are preferred over dictionaries in situations where order, sequence, or indexing of elements matters, and you don't need to associate each value with a unique key.\n"
      ],
      "metadata": {
        "id": "NXuXq5hoxv1h"
      }
    },
    {
      "cell_type": "markdown",
      "source": [
        "20. Explain the difference between a list and a dictionary in terms of data    retrieval.\n",
        "   - A list retrieves data by position → good for ordered collections.\n",
        "   - A dictionary retrieves data by key → good for labeled or structured data.\n"
      ],
      "metadata": {
        "id": "9_AQKlLc0aP_"
      }
    },
    {
      "cell_type": "markdown",
      "source": [
        "# *Practical Questions*"
      ],
      "metadata": {
        "id": "5cyjr1cu4hs9"
      }
    },
    {
      "cell_type": "code",
      "source": [
        "# 1. Write a code to create a string with your name and print it.\n",
        "\n",
        "name = \"Seema Mahalik\"\n",
        "print(name)\n"
      ],
      "metadata": {
        "colab": {
          "base_uri": "https://localhost:8080/"
        },
        "id": "JJHrh7gS7PWU",
        "outputId": "b9c2e729-c751-47e2-b27d-124bc1ee689c"
      },
      "execution_count": 7,
      "outputs": [
        {
          "output_type": "stream",
          "name": "stdout",
          "text": [
            "Seema Mahalik\n"
          ]
        }
      ]
    },
    {
      "cell_type": "code",
      "source": [
        "# 2. Write a code to find the length of the string \"Hello World\".\n",
        "\n",
        "a = \"Hello World\"\n",
        "print(len(a))"
      ],
      "metadata": {
        "colab": {
          "base_uri": "https://localhost:8080/"
        },
        "id": "a943O3r17hoV",
        "outputId": "8a023f61-9baf-4d5b-a276-af118c6f2655"
      },
      "execution_count": 8,
      "outputs": [
        {
          "output_type": "stream",
          "name": "stdout",
          "text": [
            "11\n"
          ]
        }
      ]
    },
    {
      "cell_type": "code",
      "source": [
        "#3. Write a code to slice the first 3 characters from the string \"Python Programming\".\n",
        "\n",
        "a = \"Python Programming\"\n",
        "first_three = a[:3]\n",
        "\n",
        "print(first_three)\n",
        "\n"
      ],
      "metadata": {
        "colab": {
          "base_uri": "https://localhost:8080/"
        },
        "id": "GjhQ-IDG9r6Y",
        "outputId": "4f355f49-c814-4b6e-d7c1-f043c42c14df"
      },
      "execution_count": 9,
      "outputs": [
        {
          "output_type": "stream",
          "name": "stdout",
          "text": [
            "Pyt\n"
          ]
        }
      ]
    },
    {
      "cell_type": "code",
      "source": [
        "# 4.Write a code to convert the string \"hello\" to uppercase.\n",
        "\n",
        "a = \"hello\"\n",
        "print(a.upper())\n"
      ],
      "metadata": {
        "colab": {
          "base_uri": "https://localhost:8080/"
        },
        "id": "EC6UIueA_VSi",
        "outputId": "9a26f264-55a1-4c35-e4dd-f7bbb9202f9e"
      },
      "execution_count": 10,
      "outputs": [
        {
          "output_type": "stream",
          "name": "stdout",
          "text": [
            "HELLO\n"
          ]
        }
      ]
    },
    {
      "cell_type": "code",
      "source": [
        "# 5.  Write a code to replace the word \"apple\" with \"orange\" in the string \"I like apple\".\n",
        "\n",
        "a = \"I like apple\"\n",
        "print(a.replace(\"apple\" ,\"orange\"))\n"
      ],
      "metadata": {
        "colab": {
          "base_uri": "https://localhost:8080/"
        },
        "id": "AhEWDH7w_rt2",
        "outputId": "079741b6-b1a8-44ff-f073-9c124dfecbad"
      },
      "execution_count": 11,
      "outputs": [
        {
          "output_type": "stream",
          "name": "stdout",
          "text": [
            "I like orange\n"
          ]
        }
      ]
    },
    {
      "cell_type": "code",
      "source": [
        "# 6.  Write a code to create a list with numbers 1 to 5 and print it .\n",
        "\n",
        "a =[1,2,3,4,5]\n",
        "print(a)\n"
      ],
      "metadata": {
        "colab": {
          "base_uri": "https://localhost:8080/"
        },
        "id": "1kqzPoIYAK2s",
        "outputId": "35794634-7f48-43b9-f0e8-6f7587a69a0b"
      },
      "execution_count": 12,
      "outputs": [
        {
          "output_type": "stream",
          "name": "stdout",
          "text": [
            "[1, 2, 3, 4, 5]\n"
          ]
        }
      ]
    },
    {
      "cell_type": "code",
      "source": [
        "# 7. Write a code to append the number 10 to the list [1, 2, 3, 4]\n",
        "a = [1,2,3,4,5]\n",
        "a.append(10)\n",
        "print(a)\n"
      ],
      "metadata": {
        "colab": {
          "base_uri": "https://localhost:8080/"
        },
        "id": "7z_--Gf4DXcJ",
        "outputId": "4d062294-44a1-4efd-fc9a-6c57629fde39"
      },
      "execution_count": 13,
      "outputs": [
        {
          "output_type": "stream",
          "name": "stdout",
          "text": [
            "[1, 2, 3, 4, 5, 10]\n"
          ]
        }
      ]
    },
    {
      "cell_type": "code",
      "source": [
        "# 8.  Write a code to remove the number 3 from the list [1, 2, 3, 4, 5].\n",
        "a = [1,2,3,4,5]\n",
        "a.remove(3)\n",
        "print(a)\n",
        "\n"
      ],
      "metadata": {
        "colab": {
          "base_uri": "https://localhost:8080/"
        },
        "id": "ivgX5PnXDzq6",
        "outputId": "16cc153b-7ca1-435e-e41c-e141d3dde26e"
      },
      "execution_count": 15,
      "outputs": [
        {
          "output_type": "stream",
          "name": "stdout",
          "text": [
            "[1, 2, 4, 5]\n"
          ]
        }
      ]
    },
    {
      "cell_type": "code",
      "source": [
        "# 9. Write a code to access the second element in the list ['a', 'b', 'c', 'd'].\n",
        "a = ['a', 'b', 'c', 'd']\n",
        "print(a[1])\n"
      ],
      "metadata": {
        "colab": {
          "base_uri": "https://localhost:8080/"
        },
        "id": "cwTsRVbaE16L",
        "outputId": "b5495a41-e63a-4721-d041-67f96fb97db2"
      },
      "execution_count": 16,
      "outputs": [
        {
          "output_type": "stream",
          "name": "stdout",
          "text": [
            "b\n"
          ]
        }
      ]
    },
    {
      "cell_type": "code",
      "source": [
        "# 10. Write a code to reverse the list [10, 20, 30, 40, 50].\n",
        "a = [10, 20, 30, 40, 50]\n",
        "a.reverse()\n",
        "print(a)\n"
      ],
      "metadata": {
        "colab": {
          "base_uri": "https://localhost:8080/"
        },
        "id": "KTXEU0prFgGT",
        "outputId": "d4cf6161-f8ff-46ac-f707-5127191a3c8f"
      },
      "execution_count": 17,
      "outputs": [
        {
          "output_type": "stream",
          "name": "stdout",
          "text": [
            "[50, 40, 30, 20, 10]\n"
          ]
        }
      ]
    },
    {
      "cell_type": "code",
      "source": [
        "# 11. Write a code to create a tuple with the elements 100, 200, 300 and print it.\n",
        "a = (100,200,300)\n",
        "print(a)\n"
      ],
      "metadata": {
        "colab": {
          "base_uri": "https://localhost:8080/"
        },
        "id": "8k7UbigJGazO",
        "outputId": "2f03f977-466f-4cd9-9f85-aba9bc90a9b4"
      },
      "execution_count": 18,
      "outputs": [
        {
          "output_type": "stream",
          "name": "stdout",
          "text": [
            "(100, 200, 300)\n"
          ]
        }
      ]
    },
    {
      "cell_type": "code",
      "source": [
        "# 12. Write a code to access the second-to-last element of the tuple ('red', 'green', 'blue', 'yellow').\n",
        "a = ('red', 'green', 'blue', 'yellow')\n",
        "print(a[-2])\n"
      ],
      "metadata": {
        "colab": {
          "base_uri": "https://localhost:8080/"
        },
        "id": "QMaG0ftaGz1H",
        "outputId": "ae262f00-eca6-4b94-974b-7c9fd1d41ee5"
      },
      "execution_count": 20,
      "outputs": [
        {
          "output_type": "stream",
          "name": "stdout",
          "text": [
            "blue\n"
          ]
        }
      ]
    },
    {
      "cell_type": "code",
      "source": [
        "# 13. Write a code to find the minimum number in the tuple (10, 20, 5, 15).\n",
        "a =(10, 20, 5, 15)\n",
        "print(min(a))\n"
      ],
      "metadata": {
        "colab": {
          "base_uri": "https://localhost:8080/"
        },
        "id": "mWVB20_ZIRfW",
        "outputId": "534e01b3-21d6-4d47-e87c-8fef635c0012"
      },
      "execution_count": 21,
      "outputs": [
        {
          "output_type": "stream",
          "name": "stdout",
          "text": [
            "5\n"
          ]
        }
      ]
    },
    {
      "cell_type": "code",
      "source": [
        "# 14. Write a code to find the index of the element \"cat\" in the tuple ('dog', 'cat', 'rabbit').\n",
        "\n",
        "a = ('dog', 'cat', 'rabbit')\n",
        "print(a.index(\"cat\"))\n"
      ],
      "metadata": {
        "colab": {
          "base_uri": "https://localhost:8080/"
        },
        "id": "xJQd6NsHIzOT",
        "outputId": "7198b27e-67a6-4a0b-d030-418c6e4677a4"
      },
      "execution_count": 22,
      "outputs": [
        {
          "output_type": "stream",
          "name": "stdout",
          "text": [
            "1\n"
          ]
        }
      ]
    },
    {
      "cell_type": "code",
      "source": [
        "# 15. Write a code to create a tuple containing three different fruits and check if \"kiwi\" is in it.\n",
        "\n",
        "\n",
        "fruits = (\"apple\", \"banana\", \"orange\")\n",
        "print(\"kiwi\" in fruits)\n"
      ],
      "metadata": {
        "colab": {
          "base_uri": "https://localhost:8080/"
        },
        "id": "goOel1ueJ5P6",
        "outputId": "0146a18f-e8c5-482c-ce18-1ca620b4f308"
      },
      "execution_count": 23,
      "outputs": [
        {
          "output_type": "stream",
          "name": "stdout",
          "text": [
            "False\n"
          ]
        }
      ]
    },
    {
      "cell_type": "code",
      "source": [
        "# 16. Write a code to create a set with the elements 'a', 'b', 'c' and print it.\n",
        "a = {'a', 'b', 'c'}\n",
        "print(a)"
      ],
      "metadata": {
        "colab": {
          "base_uri": "https://localhost:8080/"
        },
        "id": "-RCfYJI9LT2I",
        "outputId": "13aff30d-5abd-48e2-9ac9-0cbc2e3a9d90"
      },
      "execution_count": 26,
      "outputs": [
        {
          "output_type": "stream",
          "name": "stdout",
          "text": [
            "{'b', 'c', 'a'}\n"
          ]
        }
      ]
    },
    {
      "cell_type": "code",
      "source": [
        "# 17. Write a code to clear all elements from the set {1, 2, 3, 4, 5}.\n",
        "a = {1, 2, 3, 4, 5}\n",
        "a.clear()\n",
        "print(a)"
      ],
      "metadata": {
        "colab": {
          "base_uri": "https://localhost:8080/"
        },
        "id": "rdXA4QF0Mz7Q",
        "outputId": "4749299c-f0c8-4215-e3f6-31af89907e65"
      },
      "execution_count": 27,
      "outputs": [
        {
          "output_type": "stream",
          "name": "stdout",
          "text": [
            "set()\n"
          ]
        }
      ]
    },
    {
      "cell_type": "code",
      "source": [
        "# 18. Write a code to remove the element 4 from the set {1, 2, 3, 4}.\n",
        "a = {1, 2, 3, 4}\n",
        "a.remove(4)\n",
        "print(a)\n"
      ],
      "metadata": {
        "colab": {
          "base_uri": "https://localhost:8080/"
        },
        "id": "UU6Us2qpNWg3",
        "outputId": "2545a428-a0e2-40c4-c626-65b868990a6d"
      },
      "execution_count": 28,
      "outputs": [
        {
          "output_type": "stream",
          "name": "stdout",
          "text": [
            "{1, 2, 3}\n"
          ]
        }
      ]
    },
    {
      "cell_type": "code",
      "source": [
        "# 19. Write a code to find the union of two sets {1, 2, 3} and {3, 4, 5}.\n",
        "a = {1, 2, 3}\n",
        "b = {3, 4, 5}\n",
        "print(a.union(b))"
      ],
      "metadata": {
        "colab": {
          "base_uri": "https://localhost:8080/"
        },
        "id": "7aJCnoV2ODJa",
        "outputId": "af7d2af3-a018-4135-e8df-dfe367a0f280"
      },
      "execution_count": 1,
      "outputs": [
        {
          "output_type": "stream",
          "name": "stdout",
          "text": [
            "{1, 2, 3, 4, 5}\n"
          ]
        }
      ]
    },
    {
      "cell_type": "code",
      "source": [
        "# 20. Write a code to find the intersection of two sets {1, 2, 3} and {2, 3, 4}.\n",
        "h = {1, 2, 3}\n",
        "g = {2, 3, 4}\n",
        "print(h.intersection(g))\n",
        "\n"
      ],
      "metadata": {
        "colab": {
          "base_uri": "https://localhost:8080/"
        },
        "id": "G-T9hdmxtJ14",
        "outputId": "0dee2b51-a2f6-475f-ebc1-67375bf890bd"
      },
      "execution_count": 3,
      "outputs": [
        {
          "output_type": "stream",
          "name": "stdout",
          "text": [
            "{2, 3}\n"
          ]
        }
      ]
    },
    {
      "cell_type": "code",
      "source": [
        "# 21. Write a code to create a dictionary with the keys \"name\", \"age\", and \"city\", and print it.\n",
        "\n",
        "my_dict = {\"name\": \"Seema\", \"age\": 30, \"city\": \"Bhubaneswar\"}\n",
        "print(my_dict)"
      ],
      "metadata": {
        "colab": {
          "base_uri": "https://localhost:8080/"
        },
        "id": "ZYW3hxuJt4f1",
        "outputId": "88ed4def-6b7b-40a7-a442-84649190c911"
      },
      "execution_count": 5,
      "outputs": [
        {
          "output_type": "stream",
          "name": "stdout",
          "text": [
            "{'name': 'Seema', 'age': 30, 'city': 'Bhubaneswar'}\n"
          ]
        }
      ]
    },
    {
      "cell_type": "code",
      "source": [
        "# 22. Write a code to add a new key-value pair \"country\": \"USA\" to the dictionary {'name': 'John', 'age': 25}.\n",
        "\n",
        "my_dict = {'name': 'John', 'age': 25}\n",
        "my_dict[\"country\"] = \"USA\"\n",
        "print(my_dict)"
      ],
      "metadata": {
        "colab": {
          "base_uri": "https://localhost:8080/"
        },
        "id": "E6WMsZqPvc1x",
        "outputId": "f8fbba43-4994-4a08-db31-f1581bc0b2ea"
      },
      "execution_count": 6,
      "outputs": [
        {
          "output_type": "stream",
          "name": "stdout",
          "text": [
            "{'name': 'John', 'age': 25, 'country': 'USA'}\n"
          ]
        }
      ]
    },
    {
      "cell_type": "code",
      "source": [
        "# 23. Write a code to access the value associated with the key \"name\" in the dictionary {'name': 'Alice', 'age': 30}.\n",
        "\n",
        "my_dict = {'name': 'Alice', 'age': 30}\n",
        "name_value = my_dict[\"name\"]\n",
        "print(name_value)"
      ],
      "metadata": {
        "colab": {
          "base_uri": "https://localhost:8080/"
        },
        "id": "9zYc4oREwSq3",
        "outputId": "62e3723a-0432-4b73-e3b1-6cbc2003f2b4"
      },
      "execution_count": 7,
      "outputs": [
        {
          "output_type": "stream",
          "name": "stdout",
          "text": [
            "Alice\n"
          ]
        }
      ]
    },
    {
      "cell_type": "code",
      "source": [
        "# 24. Write a code to remove the key \"age\" from the dictionary {'name': 'Bob', 'age': 22, 'city': 'New York'}.\n",
        "\n",
        "my_dict = {'name': 'Bob', 'age': 22, 'city': 'New York'}\n",
        "my_dict.pop(\"age\")\n",
        "print(my_dict)"
      ],
      "metadata": {
        "colab": {
          "base_uri": "https://localhost:8080/"
        },
        "id": "Ng0ibHxBxbCJ",
        "outputId": "f2718319-c383-4e90-af12-d9e30f9a6467"
      },
      "execution_count": 8,
      "outputs": [
        {
          "output_type": "stream",
          "name": "stdout",
          "text": [
            "{'name': 'Bob', 'city': 'New York'}\n"
          ]
        }
      ]
    },
    {
      "cell_type": "code",
      "source": [
        "#25. Write a code to check if the key \"city\" exists in the dictionary {'name': 'Alice', 'city': 'Paris'}.\n",
        "\n",
        "my_dict = {'name': 'Alice', 'city': 'Paris'}\n",
        "if \"city\" in my_dict:\n",
        "    print(\"The key 'city' exists in the dictionary.\")\n",
        "else:\n",
        "    print(\"The key 'city' does not exist in the dictionary.\")"
      ],
      "metadata": {
        "colab": {
          "base_uri": "https://localhost:8080/"
        },
        "id": "_3GWjtXpxtXT",
        "outputId": "1a287db2-b09c-41a8-f57b-61b1be010c63"
      },
      "execution_count": 9,
      "outputs": [
        {
          "output_type": "stream",
          "name": "stdout",
          "text": [
            "The key 'city' exists in the dictionary.\n"
          ]
        }
      ]
    },
    {
      "cell_type": "code",
      "source": [
        "# 26. Write a code to create a list, a tuple, and a dictionary, and print them all.\n",
        "\n",
        "my_list = [1, 2, 3, 4, 5]\n",
        "my_tuple = (10, 20, 30, 40, 50)\n",
        "my_dict = {\"name\": \"Seema\", \"age\": 30, \"city\": \"Bhubaneswar\"}\n",
        "\n",
        "print(\"My List:\", my_list)\n",
        "print(\"My Tuple:\", my_tuple)\n",
        "print(\"My Dictionary:\", my_dict)"
      ],
      "metadata": {
        "colab": {
          "base_uri": "https://localhost:8080/"
        },
        "id": "PvOYRNSLz4YK",
        "outputId": "f3bad078-1b89-4de7-b975-d3261936ac0b"
      },
      "execution_count": 10,
      "outputs": [
        {
          "output_type": "stream",
          "name": "stdout",
          "text": [
            "My List: [1, 2, 3, 4, 5]\n",
            "My Tuple: (10, 20, 30, 40, 50)\n",
            "My Dictionary: {'name': 'Seema', 'age': 30, 'city': 'Bhubaneswar'}\n"
          ]
        }
      ]
    },
    {
      "cell_type": "code",
      "source": [
        "# 27. Write a code to create a list of 5 random numbers between 1 and 100, sort it in ascending order, and print the result.\n",
        "import random\n",
        "\n",
        "random_numbers = [random.randint(1, 100) for _ in range(5)]\n",
        "random_numbers.sort()\n",
        "print(random_numbers)"
      ],
      "metadata": {
        "colab": {
          "base_uri": "https://localhost:8080/"
        },
        "id": "KSm2UDV30gKr",
        "outputId": "45d51843-b637-487f-ea25-fe80dbd722ee"
      },
      "execution_count": 11,
      "outputs": [
        {
          "output_type": "stream",
          "name": "stdout",
          "text": [
            "[1, 5, 32, 39, 55]\n"
          ]
        }
      ]
    },
    {
      "cell_type": "code",
      "source": [
        "# 28. Write a code to create a list with strings and print the element at the third index.\n",
        "\n",
        "my_list = [\"apple\", \"banana\", \"cherry\", \"date\", \"elderberry\"]\n",
        "print(my_list[3])"
      ],
      "metadata": {
        "colab": {
          "base_uri": "https://localhost:8080/"
        },
        "id": "v_hngi7W2pVd",
        "outputId": "190f53f3-2d31-4c6a-a694-229dfa34a229"
      },
      "execution_count": 12,
      "outputs": [
        {
          "output_type": "stream",
          "name": "stdout",
          "text": [
            "date\n"
          ]
        }
      ]
    },
    {
      "cell_type": "code",
      "source": [
        "# 29. Write a code to combine two dictionaries into one and print the result.\n",
        "\n",
        "dict1 = {\"a\": 1, \"b\": 2}\n",
        "dict2 = {\"c\": 3, \"d\": 4}\n",
        "\n",
        "combined_dict = {**dict1, **dict2}\n",
        "print(combined_dict)"
      ],
      "metadata": {
        "colab": {
          "base_uri": "https://localhost:8080/"
        },
        "id": "0ED4Iz5D292R",
        "outputId": "35560a63-39f0-4a4a-ae88-6da98eca035b"
      },
      "execution_count": 13,
      "outputs": [
        {
          "output_type": "stream",
          "name": "stdout",
          "text": [
            "{'a': 1, 'b': 2, 'c': 3, 'd': 4}\n"
          ]
        }
      ]
    },
    {
      "cell_type": "code",
      "source": [
        "# 30. Write a code to convert a list of strings into a set.\n",
        "\n",
        "my_list = [\"apple\", \"banana\", \"cherry\", \"apple\", \"date\"]\n",
        "my_set = set(my_list)\n",
        "print(my_set)"
      ],
      "metadata": {
        "colab": {
          "base_uri": "https://localhost:8080/"
        },
        "id": "SNBpoo1Z3qes",
        "outputId": "59699ddc-0c6d-46aa-c328-983d6ffb34e3"
      },
      "execution_count": 14,
      "outputs": [
        {
          "output_type": "stream",
          "name": "stdout",
          "text": [
            "{'banana', 'apple', 'cherry', 'date'}\n"
          ]
        }
      ]
    }
  ]
}